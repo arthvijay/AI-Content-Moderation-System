{
 "cells": [
  {
   "cell_type": "code",
   "execution_count": 1,
   "metadata": {},
   "outputs": [
    {
     "name": "stdout",
     "output_type": "stream",
     "text": [
      "Content Moderation Test Code\n"
     ]
    }
   ],
   "source": [
    "print('Content Moderation Test Code')"
   ]
  },
  {
   "cell_type": "code",
   "execution_count": null,
   "metadata": {},
   "outputs": [],
   "source": [
    "import content_moderation_system as cms\n",
    "text = \"\"\"The person who walked away from the table yesterday was President Zelenskyy. \n",
    "I mean, look, I’ve been involved in a lot of bilateral meetings like this with heads of state and dignitaries. \n",
    "There’s a certain protocol to these events. But for him to act as he did was rather shocking to everyone. \n",
    "I mean, President Zelenskyy, instead of showing gratitude, he interrupted and berated his hosts at a very perilous time for his country. \n",
    "He should have been anxious, I think, to enter into this agreement\"\"\"\n",
    "response = cms.analyze_content(text)\n",
    "print(response)\n"
   ]
  },
  {
   "cell_type": "code",
   "execution_count": null,
   "metadata": {},
   "outputs": [],
   "source": []
  }
 ],
 "metadata": {
  "kernelspec": {
   "display_name": ".venv",
   "language": "python",
   "name": "python3"
  },
  "language_info": {
   "codemirror_mode": {
    "name": "ipython",
    "version": 3
   },
   "file_extension": ".py",
   "mimetype": "text/x-python",
   "name": "python",
   "nbconvert_exporter": "python",
   "pygments_lexer": "ipython3",
   "version": "3.12.3"
  }
 },
 "nbformat": 4,
 "nbformat_minor": 2
}
